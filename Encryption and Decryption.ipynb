{
 "cells": [
  {
   "cell_type": "markdown",
   "id": "c8e4c8b9",
   "metadata": {},
   "source": [
    "# Encryption  oF the Messages "
   ]
  },
  {
   "cell_type": "code",
   "execution_count": 1,
   "id": "f26bee61",
   "metadata": {},
   "outputs": [
    {
     "name": "stdout",
     "output_type": "stream",
     "text": [
      "enter you are stringsanjay singh gariya\n",
      "fdaanjaysiwt aujinghsuey ejxariyagkha "
     ]
    }
   ],
   "source": [
    "import random\n",
    "string =str(input(\"enter you are string\"))\n",
    "word_string  = string.split()\n",
    "encrypt_message = \"\"\n",
    "\n",
    "for word in word_string:\n",
    "    if len(word) >= 3:\n",
    "        idx = 0\n",
    "        output = \"\"\n",
    "        for k in range(len(word)+ 4):\n",
    "            if idx <= 2:\n",
    "                randomLowerLetter = chr(random.randint(ord('a'), ord('z')))\n",
    "                output += randomLowerLetter\n",
    "                idx += 1\n",
    "            elif len(output) ==(len(word)+6) :\n",
    "                exit\n",
    "            elif len(output) >= (len(word) + 3) :\n",
    "                if len(output) == (len(word) + 6):\n",
    "                    exit\n",
    "                randomLowerLetter = chr(random.randint(ord('a'), ord('z')))\n",
    "                output += randomLowerLetter\n",
    "                idx += 1\n",
    "            elif (idx > 2) and idx <= (len(word))  :\n",
    "                length_ = (len(word))\n",
    "                for i in range(1,length_):\n",
    "                    output += word[i]\n",
    "                output += word[0]\n",
    "                idx += len(word)\n",
    "        print(output, end=\" \")\n",
    "    elif len(word)==2:\n",
    "        output1 =\" \"\n",
    "        for k in range(1, -1, -1):\n",
    "            output1 += word[k]\n",
    "        print(\"encryption of the message\":, output1)\n"
   ]
  },
  {
   "cell_type": "markdown",
   "id": "2723447a",
   "metadata": {},
   "source": [
    "# Decryption   oF the Messages "
   ]
  },
  {
   "cell_type": "code",
   "execution_count": 9,
   "id": "fc293233",
   "metadata": {
    "scrolled": true
   },
   "outputs": [
    {
     "name": "stdout",
     "output_type": "stream",
     "text": [
      "['fdaanjaysiwt', 'aujinghsuey', 'ejxariyagkha']\n",
      " sanjay singh gariya\n"
     ]
    }
   ],
   "source": [
    "my_string =\"fdaanjaysiwt aujinghsuey ejxariyagkha\"\n",
    "string_word  = my_string.split()\n",
    "print(string_word)\n",
    "decode_str = \"\"\n",
    "for string in string_word:\n",
    "    decode = (string[3:-3])\n",
    "#     print(decode)\n",
    "    decoding = \" \"\n",
    "    decoding += decode[len(decode) - 1]\n",
    "    for i in range(len(decode)-1) :\n",
    "        decoding += decode[i]\n",
    "    decode_str += decoding\n",
    "#     print(decoding)\n",
    "print(\"Your DEcrypted message is \", decode_str)"
   ]
  },
  {
   "cell_type": "code",
   "execution_count": null,
   "id": "bc4bbbeb",
   "metadata": {},
   "outputs": [],
   "source": []
  },
  {
   "cell_type": "code",
   "execution_count": null,
   "id": "b84093d2",
   "metadata": {},
   "outputs": [],
   "source": []
  }
 ],
 "metadata": {
  "kernelspec": {
   "display_name": "Python 3 (ipykernel)",
   "language": "python",
   "name": "python3"
  },
  "language_info": {
   "codemirror_mode": {
    "name": "ipython",
    "version": 3
   },
   "file_extension": ".py",
   "mimetype": "text/x-python",
   "name": "python",
   "nbconvert_exporter": "python",
   "pygments_lexer": "ipython3",
   "version": "3.11.0"
  }
 },
 "nbformat": 4,
 "nbformat_minor": 5
}
