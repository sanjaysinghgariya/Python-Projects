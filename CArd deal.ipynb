{
 "cells": [
  {
   "cell_type": "code",
   "execution_count": 20,
   "id": "5b5a6397",
   "metadata": {},
   "outputs": [],
   "source": [
    "import random\n",
    "class Card:\n",
    "    def __init__(self):\n",
    "        self.suit = [\"clubs\",\"diamonds\", \"hearts\", \"spades\"]\n",
    "        self.value = [\"A\",2,3,4,5,6,7,8,9,10, \"K\", \"Q\", \"J\"]\n",
    "    def type_of_card(self):\n",
    "        return f\"<{self.suit}> of <{self.value}>\""
   ]
  },
  {
   "cell_type": "code",
   "execution_count": 21,
   "id": "03f4028f",
   "metadata": {},
   "outputs": [],
   "source": [
    "class Deck(Card):\n",
    "        def __init__(self):\n",
    "                super().__init__()\n",
    "                self.deck_of_card = []\n",
    "                for k in self.suit:\n",
    "                    for j in self.value:\n",
    "                        self.deck_of_card.append([k,j])\n",
    "        def deal(self):\n",
    "                    card_drawn = self.deck_of_card[0]\n",
    "                    return card_drawn\n",
    "                    self.deck_of_card.remove(card_drawn)\n",
    "        def shuffle(self):\n",
    "            if len(self.deck_of_card) < 52:\n",
    "                 print(\"only full deck of cards are shuffled\")       \n",
    "            else:\n",
    "                self.deck_of_card = random.sample(self.deck_of_card, len(self.deck_of_card))\n",
    "        def card_of_deck(self):\n",
    "            return len(self.deck_of_card)"
   ]
  },
  {
   "cell_type": "code",
   "execution_count": 23,
   "id": "f1946309",
   "metadata": {},
   "outputs": [
    {
     "name": "stdout",
     "output_type": "stream",
     "text": [
      " 1 card of a  personA\n",
      "['diamonds', 3]\n",
      "1 card of a  personB\n",
      "['hearts', 'A']\n",
      " 2 card of a  personA\n",
      "['diamonds', 3]\n",
      "2 card of a  personB\n",
      "['hearts', 'A']\n",
      " 3 card of a  personA\n",
      "['diamonds', 3]\n",
      "3 card of a  personB\n",
      "['hearts', 'A']\n"
     ]
    }
   ],
   "source": [
    "A = Deck()\n",
    "A.shuffle()\n",
    "B = Deck()\n",
    "B.shuffle()\n",
    "for i in range(3):\n",
    "    print(f\" {i+1} card of a  personA\")\n",
    "    print(A.deal())\n",
    "    print(f\"{i+1} card of a  personB\")\n",
    "    print(B.deal())\n",
    "    \n",
    "\n",
    "\n"
   ]
  },
  {
   "cell_type": "code",
   "execution_count": null,
   "id": "54909061",
   "metadata": {},
   "outputs": [],
   "source": []
  }
 ],
 "metadata": {
  "kernelspec": {
   "display_name": "Python 3 (ipykernel)",
   "language": "python",
   "name": "python3"
  },
  "language_info": {
   "codemirror_mode": {
    "name": "ipython",
    "version": 3
   },
   "file_extension": ".py",
   "mimetype": "text/x-python",
   "name": "python",
   "nbconvert_exporter": "python",
   "pygments_lexer": "ipython3",
   "version": "3.11.0"
  }
 },
 "nbformat": 4,
 "nbformat_minor": 5
}
